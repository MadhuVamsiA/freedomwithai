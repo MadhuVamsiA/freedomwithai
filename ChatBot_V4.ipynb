{
 "cells": [
  {
   "cell_type": "code",
   "execution_count": null,
   "id": "767706a6",
   "metadata": {},
   "outputs": [],
   "source": [
    "# !pip -q install langchain huggingface_hub transformers sentence_transformers"
   ]
  },
  {
   "cell_type": "code",
   "execution_count": 4,
   "id": "60d0066e",
   "metadata": {},
   "outputs": [
    {
     "name": "stdout",
     "output_type": "stream",
     "text": [
      "The capital of India is Delhi. Delhi is the capital of India. So, the answer is Delhi.\n"
     ]
    }
   ],
   "source": [
    "# Import necessary modules from Langchain and Transformers\n",
    "from langchain.llms import HuggingFacePipeline\n",
    "import torch\n",
    "from langchain import PromptTemplate, HuggingFaceHub, LLMChain\n",
    "from transformers import T5Tokenizer, T5ForConditionalGeneration, pipeline\n",
    "\n",
    "# Specify the model ID for a T5 model, which will be used for text generation\n",
    "model_id = 'google/flan-t5-large'\n",
    "\n",
    "# Initialize a T5 tokenizer using the specified model ID\n",
    "tokenizer = T5Tokenizer.from_pretrained(model_id)\n",
    "\n",
    "# Initialize a T5 model for conditional generation using the specified model ID\n",
    "model = T5ForConditionalGeneration.from_pretrained(model_id)\n",
    "\n",
    "# Create a text generation pipeline using the T5 model and tokenizer\n",
    "pipe = pipeline(\n",
    "    \"text2text-generation\",\n",
    "    model=model,\n",
    "    tokenizer=tokenizer,\n",
    "    max_length=100\n",
    ")\n",
    "\n",
    "# Initialize a local language model (LLM) pipeline using Hugging Face\n",
    "local_llm = HuggingFacePipeline(pipeline=pipe)\n",
    "\n",
    "# Define a template for generating prompts with a variable named \"question\"\n",
    "template = \"\"\"Question: {question}\\n\\nAnswer: Let's think step by step.\"\"\"\n",
    "\n",
    "# Create a PromptTemplate using the defined template and input variable \"question\"\n",
    "prompt = PromptTemplate(template=template, input_variables=[\"question\"])\n",
    "\n",
    "# Create an LLMChain by combining the PromptTemplate and local LLM\n",
    "llm_chain = LLMChain(prompt=prompt, llm=local_llm)\n",
    "\n",
    "# Define a question that you want to generate a response for\n",
    "question = \"what is the capital of India?\"\n",
    "\n",
    "# Generate a response using the LLMChain and print it\n",
    "response = llm_chain.run(question)\n",
    "print(response)\n"
   ]
  },
  {
   "cell_type": "code",
   "execution_count": null,
   "id": "b5ca1212",
   "metadata": {},
   "outputs": [],
   "source": []
  }
 ],
 "metadata": {
  "kernelspec": {
   "display_name": "Python 3 (ipykernel)",
   "language": "python",
   "name": "python3"
  },
  "language_info": {
   "codemirror_mode": {
    "name": "ipython",
    "version": 3
   },
   "file_extension": ".py",
   "mimetype": "text/x-python",
   "name": "python",
   "nbconvert_exporter": "python",
   "pygments_lexer": "ipython3",
   "version": "3.8.17"
  }
 },
 "nbformat": 4,
 "nbformat_minor": 5
}
